{
 "cells": [
  {
   "cell_type": "markdown",
   "id": "f51f8220-c6e1-42d5-a0d5-6bd9af59a4dc",
   "metadata": {},
   "source": [
    "## 1.WRITE A PROGRAM TO CREATE ONE TEXT FILE \"PYTHON.TXT\".  2.WRITE 15 LINES FROM USER IN IT.  3.TAKE USER INPUT WORD WHICH YOU WANT TO FIND,AND REPLACE IT WITH APPROPRIATE REPLACEMENT WORD."
   ]
  },
  {
   "cell_type": "code",
   "execution_count": 1,
   "id": "b9cc0f11-6485-4645-84c3-c8fb0409eb3e",
   "metadata": {},
   "outputs": [],
   "source": [
    "f=open(\"D:\\\\sqlite\\\\dbms\\\\data\\\\python1.txt\",\"w\")"
   ]
  },
  {
   "cell_type": "markdown",
   "id": "cf150a99-df35-418e-8666-08317572ae0b",
   "metadata": {},
   "source": [
    "# WRITE 15 LINES FROM USER."
   ]
  },
  {
   "cell_type": "code",
   "execution_count": 2,
   "id": "5f34a0a1-d100-4498-989f-1d03268ad81b",
   "metadata": {},
   "outputs": [
    {
     "name": "stdin",
     "output_type": "stream",
     "text": [
      " IoT refers to the network of interconnected devices that communicate and exchange data over the internet.\n",
      " IoT devices include smart home gadgets, wearables, industrial sensors, and connected vehicles.\n",
      "  These devices collect data from their environment, such as temperature, motion, or humidity.\n",
      "  IoT devices use various communication protocols like Wi-Fi, Bluetooth, and Zigbee to connect to the internet.\n",
      " Sensors and devices gather real-time data, which can be analyzed for insights and decision-making.\n",
      "  IoT enables automation by allowing devices to perform tasks or trigger actions based on data and pre-set conditions.\n",
      " Examples include smart thermostats, lights, and security systems that can be controlled remotely.\n",
      " Fitness trackers and smartwatches monitor health metrics like heart rate, steps, and sleep patterns.\n",
      " In manufacturing, IoT is used for monitoring equipment performance and optimizing processes.\n",
      " IoT devices in agriculture can monitor soil conditions, weather, and crop health to improve yield and efficiency.\n",
      " IoT contributes to smart city infrastructure, including traffic management, waste management, and energy usage optimization.\n",
      " IoT devices often include security features like encryption and authentication to protect data and privacy.\n",
      " IoT faces challenges such as data privacy concerns, interoperability between devices, and network security.\n",
      " The IoT ecosystem is scalable, allowing for the integration of a growing number of devices and applications.\n",
      "  IoT is evolving with advancements in AI, edge computing, and 5G technology, driving more sophisticated and connected solutions.\n",
      " \n"
     ]
    }
   ],
   "source": [
    "line=[]\n",
    "while True:\n",
    "    l=input()\n",
    "    if l:\n",
    "        line.append(l+\"\\n\")\n",
    "    else:\n",
    "        break\n",
    "text=\"\\n\".join(line)"
   ]
  },
  {
   "cell_type": "code",
   "execution_count": 3,
   "id": "37a692b1-c8ac-443d-bba1-006855d7e0d4",
   "metadata": {},
   "outputs": [],
   "source": [
    "f.writelines(line)"
   ]
  },
  {
   "cell_type": "code",
   "execution_count": 4,
   "id": "d7c2c61a-d882-49da-a303-7e265dc3e483",
   "metadata": {},
   "outputs": [],
   "source": [
    "f.close()"
   ]
  },
  {
   "cell_type": "markdown",
   "id": "263fd6c3-452d-497b-90b7-4b7eb7c6b057",
   "metadata": {},
   "source": [
    "## TAKE USER INPUT WORD WHICH YOU WANT TO FIND, AND REPLACE IT WITH APPROPRIATE REPLACEMENT WORD."
   ]
  },
  {
   "cell_type": "code",
   "execution_count": 5,
   "id": "76cef4e1-e9bb-4483-8130-27d7678d2a37",
   "metadata": {},
   "outputs": [],
   "source": [
    "f=open(\"D:\\\\sqlite\\\\dbms\\\\data\\\\python1.txt\",\"r\")"
   ]
  },
  {
   "cell_type": "code",
   "execution_count": 6,
   "id": "02fe34ba-3f7f-4e2e-8de7-1b7028314a88",
   "metadata": {},
   "outputs": [],
   "source": [
    "l=f.read()"
   ]
  },
  {
   "cell_type": "code",
   "execution_count": 7,
   "id": "aa7caa82-b4d8-428e-a113-9a3e2d537457",
   "metadata": {},
   "outputs": [
    {
     "name": "stdin",
     "output_type": "stream",
     "text": [
      "Enter the word you want to find :  IoT\n"
     ]
    }
   ],
   "source": [
    "word_find=input(\"Enter the word you want to find : \")\n"
   ]
  },
  {
   "cell_type": "code",
   "execution_count": 8,
   "id": "b120df47-0755-41b8-9eff-1f8797eeae1e",
   "metadata": {},
   "outputs": [
    {
     "name": "stdin",
     "output_type": "stream",
     "text": [
      "Enter the word to replace 'IoT' with: Internet of Things\n"
     ]
    }
   ],
   "source": [
    "replacement_word=input(f\"Enter the word to replace '{word_find}' with:\")"
   ]
  },
  {
   "cell_type": "markdown",
   "id": "37ac9ce1-b2bf-485b-a2c6-2a68706a0bb9",
   "metadata": {},
   "source": [
    "## REPLACE THE WORD IN THE CONTENT WITH THE USE OF \" REPLACE() \" (in-built function)"
   ]
  },
  {
   "cell_type": "code",
   "execution_count": 9,
   "id": "700ec105-ad52-45ac-8912-66a61ab94b11",
   "metadata": {},
   "outputs": [],
   "source": [
    "updated_word=l.replace(word_find,replacement_word) "
   ]
  },
  {
   "cell_type": "markdown",
   "id": "07f13cc2-9f03-48fe-935f-b9135483cc37",
   "metadata": {},
   "source": [
    "## WRITE THE UPDATED CONTEND BACK TO THE FILE."
   ]
  },
  {
   "cell_type": "code",
   "execution_count": 10,
   "id": "93838c42-589b-4314-9e33-68c7930994c8",
   "metadata": {},
   "outputs": [],
   "source": [
    "f.close()"
   ]
  },
  {
   "cell_type": "code",
   "execution_count": 11,
   "id": "70c10e69-b8fc-43c0-9707-272aab83a03a",
   "metadata": {},
   "outputs": [],
   "source": [
    "f=open(\"D:\\\\sqlite\\\\dbms\\\\data\\\\python1.txt\",\"w\")"
   ]
  },
  {
   "cell_type": "code",
   "execution_count": 12,
   "id": "a59bc81c-b5e8-434a-81bc-c1e576570389",
   "metadata": {},
   "outputs": [
    {
     "data": {
      "text/plain": [
       "1773"
      ]
     },
     "execution_count": 12,
     "metadata": {},
     "output_type": "execute_result"
    }
   ],
   "source": [
    "f.write(updated_word)"
   ]
  },
  {
   "cell_type": "code",
   "execution_count": 13,
   "id": "a6021f6c-98a9-4ac9-b7b3-55886ddfa7bf",
   "metadata": {},
   "outputs": [],
   "source": [
    "f.close()"
   ]
  },
  {
   "cell_type": "code",
   "execution_count": 14,
   "id": "2137eb12-103e-46b0-9bf1-d1fadaf9e549",
   "metadata": {},
   "outputs": [],
   "source": [
    "f=open(\"D:\\\\sqlite\\\\dbms\\\\data\\\\python1.txt\",\"r\")"
   ]
  },
  {
   "cell_type": "code",
   "execution_count": 15,
   "id": "7023a7cf-3331-4e14-8f5a-a0b79cc7986c",
   "metadata": {},
   "outputs": [],
   "source": [
    "w=f.read()"
   ]
  },
  {
   "cell_type": "code",
   "execution_count": 16,
   "id": "545490b3-1561-4e96-a30b-17490c936368",
   "metadata": {},
   "outputs": [
    {
     "name": "stdout",
     "output_type": "stream",
     "text": [
      "Internet of Things refers to the network of interconnected devices that communicate and exchange data over the internet.\n",
      "Internet of Things devices include smart home gadgets, wearables, industrial sensors, and connected vehicles.\n",
      " These devices collect data from their environment, such as temperature, motion, or humidity.\n",
      " Internet of Things devices use various communication protocols like Wi-Fi, Bluetooth, and Zigbee to connect to the internet.\n",
      "Sensors and devices gather real-time data, which can be analyzed for insights and decision-making.\n",
      " Internet of Things enables automation by allowing devices to perform tasks or trigger actions based on data and pre-set conditions.\n",
      "Examples include smart thermostats, lights, and security systems that can be controlled remotely.\n",
      "Fitness trackers and smartwatches monitor health metrics like heart rate, steps, and sleep patterns.\n",
      "In manufacturing, Internet of Things is used for monitoring equipment performance and optimizing processes.\n",
      "Internet of Things devices in agriculture can monitor soil conditions, weather, and crop health to improve yield and efficiency.\n",
      "Internet of Things contributes to smart city infrastructure, including traffic management, waste management, and energy usage optimization.\n",
      "Internet of Things devices often include security features like encryption and authentication to protect data and privacy.\n",
      "Internet of Things faces challenges such as data privacy concerns, interoperability between devices, and network security.\n",
      "The Internet of Things ecosystem is scalable, allowing for the integration of a growing number of devices and applications.\n",
      " Internet of Things is evolving with advancements in AI, edge computing, and 5G technology, driving more sophisticated and connected solutions.\n",
      "\n"
     ]
    }
   ],
   "source": [
    "print(w)"
   ]
  },
  {
   "cell_type": "code",
   "execution_count": null,
   "id": "26636e06-d769-417a-acd0-1b11a9ad1e8a",
   "metadata": {},
   "outputs": [],
   "source": []
  }
 ],
 "metadata": {
  "kernelspec": {
   "display_name": "Python 3 (ipykernel)",
   "language": "python",
   "name": "python3"
  },
  "language_info": {
   "codemirror_mode": {
    "name": "ipython",
    "version": 3
   },
   "file_extension": ".py",
   "mimetype": "text/x-python",
   "name": "python",
   "nbconvert_exporter": "python",
   "pygments_lexer": "ipython3",
   "version": "3.12.3"
  }
 },
 "nbformat": 4,
 "nbformat_minor": 5
}
